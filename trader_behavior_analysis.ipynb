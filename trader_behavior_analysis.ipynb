{
 "cells": [
  {
   "cell_type": "markdown",
   "id": "886382f4",
   "metadata": {},
   "source": [
    "# Trader Behavior Insights\n",
    "\n",
    "This notebook is a step-by-step template to analyze how Bitcoin market sentiment (Fear/Greed) relates to Hyperliquid trader performance.\n",
    "\n",
    "**Instructions:** upload the two CSV files into a `data/` directory and run the cells.\n",
    "\n"
   ]
  },
  {
   "cell_type": "code",
   "execution_count": null,
   "id": "691d68e5",
   "metadata": {},
   "outputs": [],
   "source": [
    "# Imports and settings\n",
    "import pandas as pd\n",
    "import numpy as np\n",
    "import matplotlib.pyplot as plt\n",
    "import seaborn as sns\n",
    "from pathlib import Path\n",
    "sns.set(style='whitegrid')\n",
    "%matplotlib inline\n"
   ]
  },
  {
   "cell_type": "code",
   "execution_count": null,
   "id": "6a3bd422",
   "metadata": {},
   "outputs": [],
   "source": [
    "# Paths - update if needed\n",
    "DATA_DIR = Path('data')\n",
    "TRADER_CSV = DATA_DIR / 'hyperliquid_historical.csv'   # <- place your trader CSV here\n",
    "SENTIMENT_CSV = DATA_DIR / 'fear_greed_index.csv'      # <- place your sentiment CSV here\n",
    "\n",
    "print('Trader file:', TRADER_CSV)\n",
    "print('Sentiment file:', SENTIMENT_CSV)\n"
   ]
  },
  {
   "cell_type": "code",
   "execution_count": null,
   "id": "a5b2702b",
   "metadata": {},
   "outputs": [],
   "source": [
    "# Load data (the parse_dates may need column name adjustment)\n",
    "trader = pd.read_csv(TRADER_CSV, low_memory=False)\n",
    "sent = pd.read_csv(SENTIMENT_CSV, low_memory=False)\n",
    "print('Trader shape:', trader.shape)\n",
    "print('Sentiment shape:', sent.shape)\n",
    "trader.head()"
   ]
  },
  {
   "cell_type": "code",
   "execution_count": null,
   "id": "53b67873",
   "metadata": {},
   "outputs": [],
   "source": [
    "# Basic cleaning - normalize column names\n",
    "trader.columns = [c.strip().lower().replace(' ', '_') for c in trader.columns]\n",
    "trader.columns[:20]"
   ]
  },
  {
   "cell_type": "code",
   "execution_count": null,
   "id": "5b6658be",
   "metadata": {},
   "outputs": [],
   "source": [
    "# Ensure time column parsed and create date\n",
    "if 'time' in trader.columns:\n",
    "    trader['time'] = pd.to_datetime(trader['time'], errors='coerce')\n",
    "elif 'timestamp' in trader.columns:\n",
    "    trader['time'] = pd.to_datetime(trader['timestamp'], errors='coerce')\n",
    "else:\n",
    "    print('No obvious time column found - please update this cell to use correct timestamp column.')\n",
    "trader['date'] = trader['time'].dt.date\n",
    "trader[['time','date']].head()"
   ]
  },
  {
   "cell_type": "code",
   "execution_count": null,
   "id": "41b2d786",
   "metadata": {},
   "outputs": [],
   "source": [
    "# Convert numeric columns\n",
    "for col in ['closedpnl','size','leverage','execution_price']:\n",
    "    if col in trader.columns:\n",
    "        trader[col] = pd.to_numeric(trader[col], errors='coerce')\n",
    "trader[['closedpnl','size','leverage']].describe()"
   ]
  },
  {
   "cell_type": "code",
   "execution_count": null,
   "id": "535abe88",
   "metadata": {},
   "outputs": [],
   "source": [
    "# Clean sentiment dataset\n",
    "sent.columns = [c.strip().lower().replace(' ', '_') for c in sent.columns]\n",
    "# Assume sentiment has 'date' or 'date' column and a 'classification' column\n",
    "if 'date' in sent.columns:\n",
    "    sent['date'] = pd.to_datetime(sent['date'], errors='coerce').dt.date\n",
    "elif 'datetime' in sent.columns:\n",
    "    sent['date'] = pd.to_datetime(sent['datetime'], errors='coerce').dt.date\n",
    "else:\n",
    "    print('Check sentiment CSV column names.')\n",
    "sent[['date']].head()"
   ]
  },
  {
   "cell_type": "code",
   "execution_count": null,
   "id": "f5b18c96",
   "metadata": {},
   "outputs": [],
   "source": [
    "# Aggregate trader metrics per date\n",
    "agg = (trader.groupby('date')\n",
    "       .agg(trades_count = ('account','size'),\n",
    "            total_pnl = ('closedpnl','sum'),\n",
    "            avg_pnl = ('closedpnl','mean'),\n",
    "            median_pnl = ('closedpnl','median'))\n",
    "       .reset_index())\n",
    "# Win rate per date (separate calculation)\n",
    "def win_rate_by_date(df):\n",
    "    return df.groupby('date').apply(lambda g: (g['closedpnl']>0).sum()/len(g) if len(g)>0 else np.nan).reset_index(name='win_rate')\n",
    "wr = win_rate_by_date(trader)\n",
    "agg = agg.merge(wr, on='date', how='left')\n",
    "agg.head()"
   ]
  },
  {
   "cell_type": "code",
   "execution_count": null,
   "id": "dec448eb",
   "metadata": {},
   "outputs": [],
   "source": [
    "# Merge with sentiment\n",
    "merged = agg.merge(sent[['date','classification']], on='date', how='left')\n",
    "merged['classification'] = merged['classification'].fillna('Unknown')\n",
    "merged.groupby('classification').agg({'total_pnl':['mean','median','std'],'trades_count':'mean','win_rate':'mean'})"
   ]
  },
  {
   "cell_type": "code",
   "execution_count": null,
   "id": "21c93658",
   "metadata": {},
   "outputs": [],
   "source": [
    "# Visuals: total PnL by sentiment\n",
    "plt.figure(figsize=(8,5))\n",
    "sns.boxplot(data=merged[merged['classification']!='Unknown'], x='classification', y='total_pnl')\n",
    "plt.title('Daily total PnL by Market Sentiment (Fear vs Greed)')\n",
    "plt.ylabel('Total PnL (USD or asset units)')\n",
    "plt.show()"
   ]
  },
  {
   "cell_type": "code",
   "execution_count": null,
   "id": "bdb3b689",
   "metadata": {},
   "outputs": [],
   "source": [
    "# Example statistical test: Mann-Whitney U test for total_pnl between Fear and Greed\n",
    "from scipy.stats import mannwhitneyu\n",
    "fear = merged[merged['classification']=='Fear']['total_pnl'].dropna()\n",
    "greed = merged[merged['classification']=='Greed']['total_pnl'].dropna()\n",
    "if len(fear)>0 and len(greed)>0:\n",
    "    stat, p = mannwhitneyu(fear, greed, alternative='two-sided')\n",
    "    print('Mann-Whitney U stat=%.3f, p=%.3f' % (stat,p))\n",
    "else:\n",
    "    print('Not enough data for test')"
   ]
  },
  {
   "cell_type": "markdown",
   "id": "570e1e1a",
   "metadata": {},
   "source": [
    "## Extensions and suggestions\n",
    "\n",
    "- Break down by `symbol` (e.g., BTC perpetuals vs others).\n",
    "- Analyze leverage distribution across sentiments.\n",
    "- Build a simple classifier to predict 'good day for traders' using sentiment + technical indicators.\n",
    "- Compute per-account behavior: does some accounts systematically profit during Greed?\n",
    "\n"
   ]
  },
  {
   "cell_type": "markdown",
   "id": "5c4c4ba6",
   "metadata": {},
   "source": [
    "## Save results\n",
    "You can save `merged` or aggregated tables as CSV for reporting:\n",
    "\n",
    "```python\n",
    "merged.to_csv('daily_agg_with_sentiment.csv', index=False)\n",
    "```\n"
   ]
  }
 ],
 "metadata": {},
 "nbformat": 4,
 "nbformat_minor": 5
}
